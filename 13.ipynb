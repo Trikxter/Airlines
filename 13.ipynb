{
 "cells": [
  {
   "cell_type": "markdown",
   "metadata": {
    "toc": true
   },
   "source": [
    "<h1>Содержание<span class=\"tocSkip\"></span></h1>\n",
    "<div class=\"toc\"><ul class=\"toc-item\"><li><span><a href=\"#Аналитика\" data-toc-modified-id=\"Аналитика-1\"><span class=\"toc-item-num\">1&nbsp;&nbsp;</span>Аналитика</a></span></li><li><span><a href=\"#Итоговый-вывод\" data-toc-modified-id=\"Итоговый-вывод-2\"><span class=\"toc-item-num\">2&nbsp;&nbsp;</span>Итоговый вывод</a></span></li><li><span><a href=\"#Чек-лист-проверки\" data-toc-modified-id=\"Чек-лист-проверки-3\"><span class=\"toc-item-num\">3&nbsp;&nbsp;</span>Чек-лист проверки</a></span></li></ul></div>"
   ]
  },
  {
   "cell_type": "markdown",
   "metadata": {},
   "source": [
    "# Спрос на рейсы авиакомпании"
   ]
  },
  {
   "cell_type": "markdown",
   "metadata": {},
   "source": [
    "Вы аналитик российской авиакомпании F9, выполняющей внутренние пассажирские перевозки. Важно понять предпочтения пользователей, покупающих билеты на разные направления.\n",
    "\n",
    "Вам предстоит изучить базу данных и проанализировать спрос пассажиров на рейсы в города, где проходят крупнейшие культурные фестивали."
   ]
  },
  {
   "cell_type": "markdown",
   "metadata": {},
   "source": [
    "У вас есть файлы с результатами запросов из предыдущих заданий.\n",
    "\n",
    "**query_1.csv** — результат первого запроса. В нём содержится такая информация:\n",
    "\n",
    "- *model* — **модель самолета;\n",
    "- *flights_amount* — количество рейсов для каждой модели самолетов *model* в сентябре 2018 года.\n",
    "\n",
    "**query_3.csv** — результат третьего запроса. В нём содержится такая информация:\n",
    "\n",
    "- *city* — город;\n",
    "- *average_flights* — среднее количество рейсов, прибывающих в город (*city*) за день в сентябре 2018 года.\n",
    "\n",
    " Для этих двух наборов данных нужно:\n",
    "\n",
    "- импортировать файлы;\n",
    "- изучить данные в них;\n",
    "- проверить типы данных на корректность;\n",
    "- выбрать топ-10 городов по количеству рейсов;\n",
    "- построить графики: модели самолётов и количество рейсов, города и количество рейсов, топ-10 городов и количество рейсов;\n",
    "- сделать выводы по каждому из графиков, пояснить результат.\n"
   ]
  },
  {
   "cell_type": "markdown",
   "metadata": {},
   "source": [
    "## Аналитика"
   ]
  },
  {
   "cell_type": "code",
   "execution_count": 1,
   "metadata": {},
   "outputs": [],
   "source": [
    "import pandas as pd\n",
    "import matplotlib.pyplot as plt\n",
    "import seaborn as sns"
   ]
  },
  {
   "cell_type": "code",
   "execution_count": 2,
   "metadata": {},
   "outputs": [],
   "source": [
    "df1 = pd.read_csv('/datasets/query_1.csv')\n",
    "df2 = pd.read_csv('/datasets/query_3.csv')"
   ]
  },
  {
   "cell_type": "markdown",
   "metadata": {},
   "source": [
    "Прочитаем наш файл"
   ]
  },
  {
   "cell_type": "code",
   "execution_count": 3,
   "metadata": {},
   "outputs": [
    {
     "name": "stdout",
     "output_type": "stream",
     "text": [
      "<class 'pandas.core.frame.DataFrame'>\n",
      "RangeIndex: 8 entries, 0 to 7\n",
      "Data columns (total 2 columns):\n",
      "model             8 non-null object\n",
      "flights_amount    8 non-null int64\n",
      "dtypes: int64(1), object(1)\n",
      "memory usage: 256.0+ bytes\n"
     ]
    }
   ],
   "source": [
    "df1.info()"
   ]
  },
  {
   "cell_type": "code",
   "execution_count": 4,
   "metadata": {},
   "outputs": [
    {
     "data": {
      "text/html": [
       "<div>\n",
       "<style scoped>\n",
       "    .dataframe tbody tr th:only-of-type {\n",
       "        vertical-align: middle;\n",
       "    }\n",
       "\n",
       "    .dataframe tbody tr th {\n",
       "        vertical-align: top;\n",
       "    }\n",
       "\n",
       "    .dataframe thead th {\n",
       "        text-align: right;\n",
       "    }\n",
       "</style>\n",
       "<table border=\"1\" class=\"dataframe\">\n",
       "  <thead>\n",
       "    <tr style=\"text-align: right;\">\n",
       "      <th></th>\n",
       "      <th>model</th>\n",
       "      <th>flights_amount</th>\n",
       "    </tr>\n",
       "  </thead>\n",
       "  <tbody>\n",
       "    <tr>\n",
       "      <td>0</td>\n",
       "      <td>Airbus A319-100</td>\n",
       "      <td>607</td>\n",
       "    </tr>\n",
       "    <tr>\n",
       "      <td>1</td>\n",
       "      <td>Airbus A321-200</td>\n",
       "      <td>960</td>\n",
       "    </tr>\n",
       "    <tr>\n",
       "      <td>2</td>\n",
       "      <td>Boeing 737-300</td>\n",
       "      <td>630</td>\n",
       "    </tr>\n",
       "    <tr>\n",
       "      <td>3</td>\n",
       "      <td>Boeing 767-300</td>\n",
       "      <td>600</td>\n",
       "    </tr>\n",
       "    <tr>\n",
       "      <td>4</td>\n",
       "      <td>Boeing 777-300</td>\n",
       "      <td>300</td>\n",
       "    </tr>\n",
       "    <tr>\n",
       "      <td>5</td>\n",
       "      <td>Bombardier CRJ-200</td>\n",
       "      <td>4446</td>\n",
       "    </tr>\n",
       "    <tr>\n",
       "      <td>6</td>\n",
       "      <td>Cessna 208 Caravan</td>\n",
       "      <td>4557</td>\n",
       "    </tr>\n",
       "    <tr>\n",
       "      <td>7</td>\n",
       "      <td>Sukhoi SuperJet-100</td>\n",
       "      <td>4185</td>\n",
       "    </tr>\n",
       "  </tbody>\n",
       "</table>\n",
       "</div>"
      ],
      "text/plain": [
       "                 model  flights_amount\n",
       "0      Airbus A319-100             607\n",
       "1      Airbus A321-200             960\n",
       "2       Boeing 737-300             630\n",
       "3       Boeing 767-300             600\n",
       "4       Boeing 777-300             300\n",
       "5   Bombardier CRJ-200            4446\n",
       "6   Cessna 208 Caravan            4557\n",
       "7  Sukhoi SuperJet-100            4185"
      ]
     },
     "execution_count": 4,
     "metadata": {},
     "output_type": "execute_result"
    }
   ],
   "source": [
    "df1.head(10)"
   ]
  },
  {
   "cell_type": "code",
   "execution_count": 5,
   "metadata": {},
   "outputs": [
    {
     "name": "stdout",
     "output_type": "stream",
     "text": [
      "<class 'pandas.core.frame.DataFrame'>\n",
      "RangeIndex: 101 entries, 0 to 100\n",
      "Data columns (total 2 columns):\n",
      "city               101 non-null object\n",
      "average_flights    101 non-null float64\n",
      "dtypes: float64(1), object(1)\n",
      "memory usage: 1.7+ KB\n"
     ]
    }
   ],
   "source": [
    "df2.info()"
   ]
  },
  {
   "cell_type": "code",
   "execution_count": 6,
   "metadata": {},
   "outputs": [
    {
     "data": {
      "text/html": [
       "<div>\n",
       "<style scoped>\n",
       "    .dataframe tbody tr th:only-of-type {\n",
       "        vertical-align: middle;\n",
       "    }\n",
       "\n",
       "    .dataframe tbody tr th {\n",
       "        vertical-align: top;\n",
       "    }\n",
       "\n",
       "    .dataframe thead th {\n",
       "        text-align: right;\n",
       "    }\n",
       "</style>\n",
       "<table border=\"1\" class=\"dataframe\">\n",
       "  <thead>\n",
       "    <tr style=\"text-align: right;\">\n",
       "      <th></th>\n",
       "      <th>city</th>\n",
       "      <th>average_flights</th>\n",
       "    </tr>\n",
       "  </thead>\n",
       "  <tbody>\n",
       "    <tr>\n",
       "      <td>0</td>\n",
       "      <td>Абакан</td>\n",
       "      <td>3.870968</td>\n",
       "    </tr>\n",
       "    <tr>\n",
       "      <td>1</td>\n",
       "      <td>Анадырь</td>\n",
       "      <td>1.000000</td>\n",
       "    </tr>\n",
       "    <tr>\n",
       "      <td>2</td>\n",
       "      <td>Анапа</td>\n",
       "      <td>2.161290</td>\n",
       "    </tr>\n",
       "    <tr>\n",
       "      <td>3</td>\n",
       "      <td>Архангельск</td>\n",
       "      <td>5.354839</td>\n",
       "    </tr>\n",
       "    <tr>\n",
       "      <td>4</td>\n",
       "      <td>Астрахань</td>\n",
       "      <td>2.451613</td>\n",
       "    </tr>\n",
       "    <tr>\n",
       "      <td>5</td>\n",
       "      <td>Барнаул</td>\n",
       "      <td>2.612903</td>\n",
       "    </tr>\n",
       "    <tr>\n",
       "      <td>6</td>\n",
       "      <td>Белгород</td>\n",
       "      <td>6.000000</td>\n",
       "    </tr>\n",
       "    <tr>\n",
       "      <td>7</td>\n",
       "      <td>Белоярский</td>\n",
       "      <td>2.000000</td>\n",
       "    </tr>\n",
       "    <tr>\n",
       "      <td>8</td>\n",
       "      <td>Благовещенск</td>\n",
       "      <td>1.000000</td>\n",
       "    </tr>\n",
       "    <tr>\n",
       "      <td>9</td>\n",
       "      <td>Братск</td>\n",
       "      <td>1.000000</td>\n",
       "    </tr>\n",
       "  </tbody>\n",
       "</table>\n",
       "</div>"
      ],
      "text/plain": [
       "           city  average_flights\n",
       "0        Абакан         3.870968\n",
       "1       Анадырь         1.000000\n",
       "2         Анапа         2.161290\n",
       "3   Архангельск         5.354839\n",
       "4     Астрахань         2.451613\n",
       "5       Барнаул         2.612903\n",
       "6      Белгород         6.000000\n",
       "7    Белоярский         2.000000\n",
       "8  Благовещенск         1.000000\n",
       "9        Братск         1.000000"
      ]
     },
     "execution_count": 6,
     "metadata": {},
     "output_type": "execute_result"
    }
   ],
   "source": [
    "df2.head(10)"
   ]
  },
  {
   "cell_type": "markdown",
   "metadata": {},
   "source": [
    "Наблюдаем, что проблем с данными нет."
   ]
  },
  {
   "cell_type": "markdown",
   "metadata": {},
   "source": [
    "Выберем топ-10 городов по количеству рейсов."
   ]
  },
  {
   "cell_type": "code",
   "execution_count": 7,
   "metadata": {},
   "outputs": [],
   "source": [
    "df2_sorted = df2.sort_values(by = 'average_flights', axis=0, ascending=False)"
   ]
  },
  {
   "cell_type": "code",
   "execution_count": 8,
   "metadata": {},
   "outputs": [
    {
     "data": {
      "text/html": [
       "<div>\n",
       "<style scoped>\n",
       "    .dataframe tbody tr th:only-of-type {\n",
       "        vertical-align: middle;\n",
       "    }\n",
       "\n",
       "    .dataframe tbody tr th {\n",
       "        vertical-align: top;\n",
       "    }\n",
       "\n",
       "    .dataframe thead th {\n",
       "        text-align: right;\n",
       "    }\n",
       "</style>\n",
       "<table border=\"1\" class=\"dataframe\">\n",
       "  <thead>\n",
       "    <tr style=\"text-align: right;\">\n",
       "      <th></th>\n",
       "      <th>city</th>\n",
       "      <th>average_flights</th>\n",
       "    </tr>\n",
       "  </thead>\n",
       "  <tbody>\n",
       "    <tr>\n",
       "      <td>43</td>\n",
       "      <td>Москва</td>\n",
       "      <td>129.774194</td>\n",
       "    </tr>\n",
       "    <tr>\n",
       "      <td>70</td>\n",
       "      <td>Санкт-Петербург</td>\n",
       "      <td>31.161290</td>\n",
       "    </tr>\n",
       "    <tr>\n",
       "      <td>54</td>\n",
       "      <td>Новосибирск</td>\n",
       "      <td>17.322581</td>\n",
       "    </tr>\n",
       "    <tr>\n",
       "      <td>33</td>\n",
       "      <td>Красноярск</td>\n",
       "      <td>11.580645</td>\n",
       "    </tr>\n",
       "    <tr>\n",
       "      <td>20</td>\n",
       "      <td>Екатеринбург</td>\n",
       "      <td>11.322581</td>\n",
       "    </tr>\n",
       "    <tr>\n",
       "      <td>67</td>\n",
       "      <td>Ростов-на-Дону</td>\n",
       "      <td>10.193548</td>\n",
       "    </tr>\n",
       "    <tr>\n",
       "      <td>63</td>\n",
       "      <td>Пермь</td>\n",
       "      <td>10.129032</td>\n",
       "    </tr>\n",
       "    <tr>\n",
       "      <td>10</td>\n",
       "      <td>Брянск</td>\n",
       "      <td>10.000000</td>\n",
       "    </tr>\n",
       "    <tr>\n",
       "      <td>74</td>\n",
       "      <td>Сочи</td>\n",
       "      <td>9.612903</td>\n",
       "    </tr>\n",
       "    <tr>\n",
       "      <td>84</td>\n",
       "      <td>Ульяновск</td>\n",
       "      <td>9.580645</td>\n",
       "    </tr>\n",
       "  </tbody>\n",
       "</table>\n",
       "</div>"
      ],
      "text/plain": [
       "               city  average_flights\n",
       "43           Москва       129.774194\n",
       "70  Санкт-Петербург        31.161290\n",
       "54      Новосибирск        17.322581\n",
       "33       Красноярск        11.580645\n",
       "20     Екатеринбург        11.322581\n",
       "67   Ростов-на-Дону        10.193548\n",
       "63            Пермь        10.129032\n",
       "10           Брянск        10.000000\n",
       "74             Сочи         9.612903\n",
       "84        Ульяновск         9.580645"
      ]
     },
     "metadata": {},
     "output_type": "display_data"
    }
   ],
   "source": [
    "display(df2_sorted.head(10))"
   ]
  },
  {
   "cell_type": "markdown",
   "metadata": {},
   "source": [
    "Построим графики: модели самолётов и количество рейсов, города и количество рейсов, топ-10 городов и количество рейсов."
   ]
  },
  {
   "cell_type": "code",
   "execution_count": 9,
   "metadata": {},
   "outputs": [
    {
     "data": {
      "text/plain": [
       "<matplotlib.axes._subplots.AxesSubplot at 0x7f020a7f3090>"
      ]
     },
     "execution_count": 9,
     "metadata": {},
     "output_type": "execute_result"
    },
    {
     "data": {
      "image/png": "[encoded data removed]",
      "text/plain": [
       "<Figure size 432x288 with 1 Axes>"
      ]
     },
     "metadata": {
      "needs_background": "light"
     },
     "output_type": "display_data"
    }
   ],
   "source": [
    "models_and_flights = df1.sort_values(\"flights_amount\")\n",
    "models_and_flights.plot(x=\"model\", y=\"flights_amount\", kind=\"bar\")\n",
    " "
   ]
  },
  {
   "cell_type": "markdown",
   "metadata": {},
   "source": [
    "Видим, что преимущественно на самолётах моделей Bombardier CRJ-200,Cessna 208 Caravan и Sukhoi SuperJet-100 летает больше всего - потому что огромные \"Боинги\" и \"Аирбасы\" летают в аэропорты-хабы,где происходит смена самолёта и его дозаправка откуда в более маленькие города вылетают уже маленькие самолёты.Поэтому,  в аутсайдерах находятся самолёты фирм \"Боинг\" и \"Аирбас\"."
   ]
  },
  {
   "cell_type": "code",
   "execution_count": 12,
   "metadata": {},
   "outputs": [
    {
     "data": {
      "text/plain": [
       "<matplotlib.axes._subplots.AxesSubplot at 0x7f0201dcf810>"
      ]
     },
     "execution_count": 12,
     "metadata": {},
     "output_type": "execute_result"
    },
    {
     "data": {
      "image/png": "[encoded data removed]",
      "text/plain": [
       "<Figure size 1080x1080 with 1 Axes>"
      ]
     },
     "metadata": {
      "needs_background": "light"
     },
     "output_type": "display_data"
    }
   ],
   "source": [
    "cities_and_flights = df2.sort_values(\"average_flights\")\n",
    "cities_and_flights.plot(x=\"city\", y=\"average_flights\", kind=\"bar\",figsize=(15,15))"
   ]
  },
  {
   "cell_type": "markdown",
   "metadata": {},
   "source": [
    "Москва и Санкт-Петербург лидируют по количеству полётов."
   ]
  },
  {
   "cell_type": "code",
   "execution_count": 11,
   "metadata": {},
   "outputs": [
    {
     "data": {
      "text/plain": [
       "<matplotlib.axes._subplots.AxesSubplot at 0x7f02017d3b10>"
      ]
     },
     "execution_count": 11,
     "metadata": {},
     "output_type": "execute_result"
    },
    {
     "data": {
      "image/png": "[encoded data removed]",
      "text/plain": [
       "<Figure size 432x288 with 1 Axes>"
      ]
     },
     "metadata": {
      "needs_background": "light"
     },
     "output_type": "display_data"
    }
   ],
   "source": [
    "top10_and_flights = df2_sorted.head(10)\n",
    "top10_and_flights.plot(x=\"city\", y=\"average_flights\", kind=\"bar\")"
   ]
  },
  {
   "cell_type": "markdown",
   "metadata": {},
   "source": [
    "Наблюдаем картину из топ-10 городов с самым большим количеством полётов. 2-е место сильно отличается от 1-го, далее различия не столь значительные. Видим, что есть зависимость между количеством жителей, проживающих в данных городах, и количеством рейсов. Далее идут города-миллионники, или города-курорты(как, например, Красноярск или Сочи). Такой разброс между Москвой и Санкт-Петербургом так же объясняется тем, что Москва является топ городом для пересадки с любого дальнего города, например, с Европы нужно попасть в Сибирь, то пересадка будет в Москве."
   ]
  },
  {
   "cell_type": "markdown",
   "metadata": {},
   "source": [
    "## Итоговый вывод"
   ]
  },
  {
   "cell_type": "markdown",
   "metadata": {},
   "source": []
  },
  {
   "cell_type": "markdown",
   "metadata": {},
   "source": [
    "Была получена информация с базы данных и проанализирован спрос пассажиров на рейсы в города, где проимходят крупнейшие культурные фестивали. Была предпринята попытка понять предпочтения пользователей, полкупающих блитеы на разные направления. \n",
    "\n",
    "Топ-3 городов - Москва, Санкт-Петербург, Новосибирск. Москва - часто является городом для пересадки, Санкт-Петербург - просто большой и красивый город, северная столица РФ, Новосибирск - главный транзитный пересадочный пункт для сибири и прочей той части России, оттуда уже идёт маленький самолёт или поезд. Или для дозаправки.\n",
    "\n",
    "Были выявлены три самых популярных самолёта - Bombardier CRJ-200,Cessna 208 Caravan и Sukhoi SuperJet-100. Ввиду логистики в РФ"
   ]
  },
  {
   "cell_type": "markdown",
   "metadata": {},
   "source": [
    "## Чек-лист проверки"
   ]
  },
  {
   "cell_type": "markdown",
   "metadata": {},
   "source": [
    "- [x]  Jupyter Notebook открыт\n",
    "- [x]  Весь код выполняется без ошибок\n",
    "- [x]  Ячейки с кодом расположены в порядке исполнения\n",
    "- [x]  Файлы изучены\n",
    "- [x]  Типы данных проверены на корректность\n",
    "- [x]  Выбран топ-10 городов по количеству рейсов\n",
    "- [x]  Построен график «Модели самолётов и количество рейсов»\n",
    "- [x]  Построен график «Города и количество рейсов»\n",
    "- [x]  Построен график «Топ-10 городов и количество рейсов»\n",
    "- [x]  На каждом этапе написаны выводы\n",
    "- [x]  Написан общий вывод"
   ]
  }
 ],
 "metadata": {
  "ExecuteTimeLog": [
   {
    "duration": 844,
    "start_time": "2021-11-15T11:57:23.688Z"
   },
   {
    "duration": 1557,
    "start_time": "2021-11-15T11:57:50.190Z"
   },
   {
    "duration": 1549,
    "start_time": "2021-11-15T12:00:33.477Z"
   },
   {
    "duration": 1263,
    "start_time": "2021-11-15T12:00:53.962Z"
   },
   {
    "duration": 17,
    "start_time": "2021-11-15T12:13:36.003Z"
   },
   {
    "duration": 30,
    "start_time": "2021-11-15T12:13:53.616Z"
   },
   {
    "duration": 6,
    "start_time": "2021-11-15T12:14:21.743Z"
   },
   {
    "duration": 14,
    "start_time": "2021-11-15T12:14:30.013Z"
   },
   {
    "duration": 6,
    "start_time": "2021-11-15T12:14:38.521Z"
   },
   {
    "duration": 7,
    "start_time": "2021-11-15T12:14:51.138Z"
   },
   {
    "duration": 188,
    "start_time": "2021-11-15T12:16:20.427Z"
   },
   {
    "duration": 301,
    "start_time": "2021-11-15T12:20:59.793Z"
   },
   {
    "duration": 100,
    "start_time": "2021-11-15T12:21:14.593Z"
   },
   {
    "duration": 302,
    "start_time": "2021-11-15T12:21:23.993Z"
   },
   {
    "duration": 183,
    "start_time": "2021-11-15T12:21:33.133Z"
   },
   {
    "duration": 184,
    "start_time": "2021-11-15T12:24:38.354Z"
   },
   {
    "duration": 183,
    "start_time": "2021-11-15T12:24:48.437Z"
   },
   {
    "duration": 67,
    "start_time": "2021-11-15T12:25:16.150Z"
   },
   {
    "duration": 60,
    "start_time": "2021-11-15T12:25:26.789Z"
   },
   {
    "duration": 11,
    "start_time": "2021-11-15T12:25:40.024Z"
   },
   {
    "duration": 10,
    "start_time": "2021-11-15T12:25:48.965Z"
   },
   {
    "duration": 8,
    "start_time": "2021-11-15T12:25:54.149Z"
   },
   {
    "duration": 5,
    "start_time": "2021-11-15T12:26:01.430Z"
   },
   {
    "duration": 205,
    "start_time": "2021-11-15T12:26:27.127Z"
   },
   {
    "duration": 4,
    "start_time": "2021-11-15T12:26:40.812Z"
   },
   {
    "duration": 7,
    "start_time": "2021-11-15T12:26:42.269Z"
   },
   {
    "duration": 5,
    "start_time": "2021-11-15T12:26:48.859Z"
   },
   {
    "duration": 4,
    "start_time": "2021-11-15T12:27:17.308Z"
   },
   {
    "duration": 5,
    "start_time": "2021-11-15T12:27:19.002Z"
   },
   {
    "duration": 191,
    "start_time": "2021-11-15T12:37:51.209Z"
   },
   {
    "duration": 67,
    "start_time": "2021-11-15T12:39:15.986Z"
   },
   {
    "duration": 358,
    "start_time": "2021-11-15T12:39:20.915Z"
   },
   {
    "duration": 445,
    "start_time": "2021-11-15T12:39:35.988Z"
   },
   {
    "duration": 333,
    "start_time": "2021-11-15T12:39:39.853Z"
   },
   {
    "duration": 249,
    "start_time": "2021-11-15T13:19:27.698Z"
   },
   {
    "duration": 164,
    "start_time": "2021-11-15T13:19:35.973Z"
   },
   {
    "duration": 211,
    "start_time": "2021-11-15T13:22:31.968Z"
   },
   {
    "duration": 5337,
    "start_time": "2021-11-15T13:25:33.241Z"
   },
   {
    "duration": 177,
    "start_time": "2021-11-15T13:25:49.812Z"
   },
   {
    "duration": 1477,
    "start_time": "2021-11-15T13:28:48.376Z"
   },
   {
    "duration": 2870,
    "start_time": "2021-11-15T13:30:12.716Z"
   },
   {
    "duration": 1419,
    "start_time": "2021-11-15T13:31:16.665Z"
   },
   {
    "duration": 205,
    "start_time": "2021-11-15T13:31:26.958Z"
   },
   {
    "duration": 186,
    "start_time": "2021-11-15T13:32:31.752Z"
   },
   {
    "duration": 986,
    "start_time": "2021-11-15T13:36:11.644Z"
   },
   {
    "duration": 27,
    "start_time": "2021-11-15T13:36:12.635Z"
   },
   {
    "duration": 8,
    "start_time": "2021-11-15T13:36:12.663Z"
   },
   {
    "duration": 13,
    "start_time": "2021-11-15T13:36:12.672Z"
   },
   {
    "duration": 5,
    "start_time": "2021-11-15T13:36:12.687Z"
   },
   {
    "duration": 8,
    "start_time": "2021-11-15T13:36:12.693Z"
   },
   {
    "duration": 6,
    "start_time": "2021-11-15T13:36:12.703Z"
   },
   {
    "duration": 5,
    "start_time": "2021-11-15T13:36:12.711Z"
   },
   {
    "duration": 201,
    "start_time": "2021-11-15T13:36:12.718Z"
   },
   {
    "duration": 2899,
    "start_time": "2021-11-15T13:36:12.920Z"
   },
   {
    "duration": 202,
    "start_time": "2021-11-15T13:36:15.820Z"
   },
   {
    "duration": 312,
    "start_time": "2021-11-16T11:10:32.297Z"
   },
   {
    "duration": 1156,
    "start_time": "2021-11-16T11:10:39.371Z"
   },
   {
    "duration": 29,
    "start_time": "2021-11-16T11:10:40.529Z"
   },
   {
    "duration": 16,
    "start_time": "2021-11-16T11:10:40.560Z"
   },
   {
    "duration": 22,
    "start_time": "2021-11-16T11:10:40.578Z"
   },
   {
    "duration": 11,
    "start_time": "2021-11-16T11:10:40.601Z"
   },
   {
    "duration": 20,
    "start_time": "2021-11-16T11:10:40.613Z"
   },
   {
    "duration": 7,
    "start_time": "2021-11-16T11:10:40.634Z"
   },
   {
    "duration": 16,
    "start_time": "2021-11-16T11:10:40.642Z"
   },
   {
    "duration": 189,
    "start_time": "2021-11-16T11:10:40.660Z"
   },
   {
    "duration": 2887,
    "start_time": "2021-11-16T11:10:40.851Z"
   },
   {
    "duration": 205,
    "start_time": "2021-11-16T11:10:43.740Z"
   },
   {
    "duration": 1463,
    "start_time": "2021-11-17T07:12:15.505Z"
   },
   {
    "duration": 1189,
    "start_time": "2021-11-17T07:12:22.764Z"
   },
   {
    "duration": 31,
    "start_time": "2021-11-17T07:12:23.956Z"
   },
   {
    "duration": 9,
    "start_time": "2021-11-17T07:12:23.989Z"
   },
   {
    "duration": 11,
    "start_time": "2021-11-17T07:12:24.000Z"
   },
   {
    "duration": 8,
    "start_time": "2021-11-17T07:12:24.013Z"
   },
   {
    "duration": 10,
    "start_time": "2021-11-17T07:12:24.022Z"
   },
   {
    "duration": 7,
    "start_time": "2021-11-17T07:12:24.034Z"
   },
   {
    "duration": 14,
    "start_time": "2021-11-17T07:12:24.043Z"
   },
   {
    "duration": 218,
    "start_time": "2021-11-17T07:12:24.060Z"
   },
   {
    "duration": 3145,
    "start_time": "2021-11-17T07:12:24.280Z"
   },
   {
    "duration": 373,
    "start_time": "2021-11-17T07:12:27.427Z"
   },
   {
    "duration": -18427,
    "start_time": "2021-11-17T07:12:46.229Z"
   },
   {
    "duration": 1611,
    "start_time": "2021-11-17T07:12:42.204Z"
   },
   {
    "duration": 128,
    "start_time": "2021-11-17T07:13:31.653Z"
   },
   {
    "duration": 687,
    "start_time": "2021-11-17T07:14:00.718Z"
   },
   {
    "duration": 632,
    "start_time": "2021-11-17T07:14:07.915Z"
   },
   {
    "duration": 1804,
    "start_time": "2021-11-17T07:14:12.877Z"
   },
   {
    "duration": 1597,
    "start_time": "2021-11-17T07:14:21.809Z"
   },
   {
    "duration": 1860,
    "start_time": "2021-11-17T07:14:30.287Z"
   },
   {
    "duration": 1765,
    "start_time": "2021-11-17T07:14:42.095Z"
   },
   {
    "duration": 2036,
    "start_time": "2021-11-17T07:16:26.570Z"
   },
   {
    "duration": 1692,
    "start_time": "2021-11-17T07:16:41.774Z"
   },
   {
    "duration": 1806,
    "start_time": "2021-11-17T07:16:52.552Z"
   },
   {
    "duration": 1780,
    "start_time": "2021-11-17T07:17:01.823Z"
   },
   {
    "duration": 1786,
    "start_time": "2021-11-17T07:17:10.389Z"
   },
   {
    "duration": 1835,
    "start_time": "2021-11-17T07:17:45.894Z"
   },
   {
    "duration": 1694,
    "start_time": "2021-11-17T07:17:55.788Z"
   },
   {
    "duration": 3002,
    "start_time": "2021-11-17T07:19:10.266Z"
   },
   {
    "duration": 205,
    "start_time": "2021-11-17T07:19:21.205Z"
   },
   {
    "duration": 1584,
    "start_time": "2021-11-17T08:55:52.423Z"
   },
   {
    "duration": 32,
    "start_time": "2021-11-17T08:55:54.011Z"
   },
   {
    "duration": 13,
    "start_time": "2021-11-17T08:55:54.046Z"
   },
   {
    "duration": 22,
    "start_time": "2021-11-17T08:55:54.062Z"
   },
   {
    "duration": 20,
    "start_time": "2021-11-17T08:55:54.086Z"
   },
   {
    "duration": 16,
    "start_time": "2021-11-17T08:55:54.109Z"
   },
   {
    "duration": 9,
    "start_time": "2021-11-17T08:55:54.127Z"
   },
   {
    "duration": 12,
    "start_time": "2021-11-17T08:55:54.139Z"
   },
   {
    "duration": 339,
    "start_time": "2021-11-17T08:55:54.153Z"
   },
   {
    "duration": 2900,
    "start_time": "2021-11-17T08:55:54.494Z"
   },
   {
    "duration": 359,
    "start_time": "2021-11-17T08:55:57.400Z"
   },
   {
    "duration": 2857,
    "start_time": "2021-11-17T08:56:49.885Z"
   }
  ],
  "kernelspec": {
   "display_name": "Python 3 (ipykernel)",
   "language": "python",
   "name": "python3"
  },
  "language_info": {
   "codemirror_mode": {
    "name": "ipython",
    "version": 3
   },
   "file_extension": ".py",
   "mimetype": "text/x-python",
   "name": "python",
   "nbconvert_exporter": "python",
   "pygments_lexer": "ipython3",
   "version": "3.9.5"
  },
  "toc": {
   "base_numbering": 1,
   "nav_menu": {},
   "number_sections": true,
   "sideBar": true,
   "skip_h1_title": true,
   "title_cell": "Содержание",
   "title_sidebar": "Contents",
   "toc_cell": true,
   "toc_position": {
    "height": "calc(100% - 180px)",
    "left": "10px",
    "top": "150px",
    "width": "165px"
   },
   "toc_section_display": true,
   "toc_window_display": true
  }
 },
 "nbformat": 4,
 "nbformat_minor": 2
}
